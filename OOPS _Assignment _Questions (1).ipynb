{
 "cells": [
  {
   "cell_type": "code",
   "execution_count": null,
   "id": "e8afd709-f9e0-4cc8-bf05-675557827496",
   "metadata": {},
   "outputs": [],
   "source": [
    "    \n",
    "\n",
    " 13. Explain the concept of the Diamond Problem in multiple inheritance. How does Python resolve it?\n",
    " 14. Write a class method that keeps track of the number of instances created from a class.\n",
    " 15. Implement a static method in a class that checks if a given year is a leap year"
   ]
  },
  {
   "cell_type": "code",
   "execution_count": null,
   "id": "1c360523-116b-45f6-9d7a-fcad3562312a",
   "metadata": {},
   "outputs": [],
   "source": [
    "# 1.What are the five key concepts of Object-Oriented Programming (OOP)?\n",
    "# ans:\n",
    "'''Here is the  five key concepts Object-Oriented Programming (OOP):\n",
    "\n",
    "1)Classes and Objects:\n",
    "\n",
    "A class is like a recipe or blueprint for creating objects.\n",
    "Objects are like real things made from that recipe, and they can have properties (like color, size) and actions (like run, jump).\n",
    "\n",
    "2)Encapsulation:\n",
    "\n",
    "Encapsulation means wrapping data (properties) and actions (methods) into a single unit, like a capsule.\n",
    "It also hides some parts so people can only use what’s allowed, making it safer and easier to manage.\n",
    "\n",
    "3)Abstraction:\n",
    "\n",
    "Abstraction is about hiding all the messy details and showing only what’s important.\n",
    "Think of driving a car—you just need to know how to steer and press the pedals; you don’t need to know how the engine works.\n",
    "\n",
    "4)Inheritance:\n",
    "\n",
    "Inheritance allows one class to take on properties and actions from another class, like how a child inherits traits from parents.\n",
    "This helps to avoid rewriting code and keeps things organized.\n",
    "\n",
    "5)Polymorphism:\n",
    "\n",
    "Polymorphism means \"many shapes.\" It allows one action to work in different ways depending on the object.\n",
    "For example, the word \"draw\" can mean different things for different objects—a circle and a square would draw themselves in different ways.'''\n"
   ]
  },
  {
   "cell_type": "code",
   "execution_count": 9,
   "id": "b80aff68-fe80-4e9b-bdde-bfccd9f58cd4",
   "metadata": {},
   "outputs": [
    {
     "name": "stdout",
     "output_type": "stream",
     "text": [
      " Car_information= make= Toyota , model=Camry , year=2020\n"
     ]
    }
   ],
   "source": [
    "#  2. Write a Python class for a `Car` with attributes for `make`, `model`, and `year`. Include a method to display the car's information.\n",
    "class Car:\n",
    "    def __init__(self,make,model,year):\n",
    "        \n",
    "         # Attributes\n",
    "        self.make=make\n",
    "        self.model=model\n",
    "        self.year=year\n",
    "\n",
    "    def display_info(self): # Method to display car's information\n",
    "        print(f\" Car_information= make= {self.make} , model={self.model} , year={self.year}\")\n",
    "\n",
    "car1=Car(\"Toyota\", \"Camry\", 2020)# Create an instance of the Car class\n",
    "car1.display_info()"
   ]
  },
  {
   "cell_type": "code",
   "execution_count": 13,
   "id": "66d5468e-15c9-44c7-a266-557a6e5fb060",
   "metadata": {},
   "outputs": [
    {
     "name": "stdout",
     "output_type": "stream",
     "text": [
      "Buddy , Dog is barking!\n"
     ]
    }
   ],
   "source": [
    "# 3. Explain the difference between instance methods and class methods. Provide an example of each.\n",
    "\n",
    "''' \"instance methods\" and \"class methods\" are two types of methods used within a class, \n",
    "but they behave differently and serve different purposes.\n",
    "\n",
    "a)Instance Methods:\n",
    "Instance methods are used to operate on instances (objects) of a class.\n",
    "These methods take the instance (self) as the first parameter and can access or modify instance attributes.\n",
    "They are called on objects of the class.'''\n",
    "\n",
    "#Example:\n",
    "\n",
    "class Dog:\n",
    "    def __init__(self,name,breed):\n",
    "        self.name=name\n",
    "        self.breed=breed\n",
    "\n",
    "    def bark(self):  # Instance method\n",
    "        print(self.name , ', Dog is barking!')\n",
    "\n",
    "dog1=Dog('Buddy','Golden Retriever')# Create an instance (object) of Dog\n",
    "dog1.bark()# Call the instance method"
   ]
  },
  {
   "cell_type": "code",
   "execution_count": 29,
   "id": "9dfefaaa-365e-4f31-b875-300420941973",
   "metadata": {},
   "outputs": [
    {
     "name": "stdout",
     "output_type": "stream",
     "text": [
      " Show total dogs:2\n"
     ]
    }
   ],
   "source": [
    "'''b). Class Methods:\n",
    "Class methods are used to operate on the class itself, rather than on instances of the class.\n",
    "These methods take the class (cls) as the first parameter and can access or modify class-level attributes.\n",
    "They are called on the class, not on individual objects.\n",
    "To define a class method, you use the @classmethod decorator.'''\n",
    "\n",
    "#Example:\n",
    "\n",
    "class Dog:\n",
    "    # Class attribute (shared by all instances)\n",
    "    total_dogs=0 # Increment the class attribute whenever a new dog is created\n",
    "    def __init__(self,name,breed):\n",
    "        self.name=name\n",
    "        self.breed=breed\n",
    "        Dog.total_dogs+=1\n",
    "    \n",
    "    # Class method to show total number of dogs\n",
    "    @classmethod\n",
    "    def show_total_dogs(cls):  # Instance method\n",
    "        print(f\" Show total dogs:{cls.total_dogs}\")\n",
    "\n",
    "dog1=Dog('Buddy','Golden Retriever') # Create instances of the Dog class\n",
    "dog2=Dog('Goldy','Bull dog')\n",
    "Dog.show_total_dogs()# Call the instance method"
   ]
  },
  {
   "cell_type": "code",
   "execution_count": 44,
   "id": "2f0f77e6-1a28-44bc-a471-4d3c1a4f8148",
   "metadata": {},
   "outputs": [
    {
     "name": "stdout",
     "output_type": "stream",
     "text": [
      "add(7,8)= 15\n",
      "add(7,8,10)= 25\n",
      "add(7,8,10,18)= 50\n"
     ]
    }
   ],
   "source": [
    "# 4. How does Python implement method overloading? Give an example.\n",
    "\n",
    "class Calculator:\n",
    "    def add(self,*args):\n",
    "        return sum(args)\n",
    "\n",
    "cal=Calculator()# Create an instance of Calculator\n",
    "\n",
    "# Call the method with different numbers of arguments\n",
    "print(\"add(7,8)=\",cal.add(7,8))\n",
    "print(\"add(7,8,10)=\",cal.add(7,8,10))\n",
    "print(\"add(7,8,10,18)=\",cal.add(7,8,17,18))\n",
    "\n"
   ]
  },
  {
   "cell_type": "code",
   "execution_count": 43,
   "id": "0960faef-f20a-4f6d-9572-640848dd6986",
   "metadata": {},
   "outputs": [
    {
     "name": "stdout",
     "output_type": "stream",
     "text": [
      "car1.make: Toyota\n",
      "car1.year: 1937\n"
     ]
    }
   ],
   "source": [
    "#5. What are the three types of access modifiers in Python? How are they denoted?\n",
    "\n",
    "'''1. Public:\n",
    "Members (variables or methods) declared as public can be accessed from anywhere, both inside and outside the class.\n",
    "Denoted by: No special symbol'''\n",
    "\n",
    "class Car:\n",
    "    def __init__(self,make,year):\n",
    "        self.make=make  # Public attribute\n",
    "        self.year=year   # Public attribute\n",
    "\n",
    "car1=Car(\"Toyota\", 1937)\n",
    "print(\"car1.make:\",car1.make)  # Accessing public attribute outside the class\n",
    "print(\"car1.year:\",car1.year)\n"
   ]
  },
  {
   "cell_type": "code",
   "execution_count": 85,
   "id": "4ffdd169-75f9-4876-b56d-2ff4fd14d6ae",
   "metadata": {},
   "outputs": [
    {
     "name": "stdout",
     "output_type": "stream",
     "text": [
      "name: Rahul\n",
      "marks: 89\n",
      "name=Rahul,subject=Maths,marks=89\n"
     ]
    }
   ],
   "source": [
    "'''2. Protected:\n",
    "Members declared as protected can only be accessed within the class and its subclasses. However, Python does not strictly enforce this rule and allows access from outside the class, though it is intended to be a \"soft\" convention.\n",
    "Denoted by: A single underscore (_) before the variable or method name.'''\n",
    "#Example:\n",
    "\n",
    "class Student:\n",
    "    def __init__(self,name,subject,marks):\n",
    "        self.name=name\n",
    "        self._subject=subject # Protected attribute\n",
    "        self._marks=marks # Protected attribute\n",
    "\n",
    "\n",
    "\n",
    "class Details(Student):\n",
    "    def show_details(self):\n",
    "        print(f\"name={self.name},subject={self._subject},marks={self._marks}\") # Can access protected attribute in subclass\n",
    "\n",
    "s1=Details('Rahul','Maths',89)\n",
    "print('name:',s1.name)\n",
    "\n",
    "print('marks:',s1._marks)\n",
    "\n",
    "(s1.show_details()) # Accessing protected attribute within subclas"
   ]
  },
  {
   "cell_type": "code",
   "execution_count": 104,
   "id": "05fe09a9-25b8-44bc-bc56-f65fdfd2c39e",
   "metadata": {},
   "outputs": [
    {
     "name": "stdout",
     "output_type": "stream",
     "text": [
      "name: Rahul\n",
      "name=Rahul,address=flat no:23 ABC appartment xyz road PQR city\n"
     ]
    },
    {
     "ename": "AttributeError",
     "evalue": "'Student' object has no attribute '__address'",
     "output_type": "error",
     "traceback": [
      "\u001b[1;31m---------------------------------------------------------------------------\u001b[0m",
      "\u001b[1;31mAttributeError\u001b[0m                            Traceback (most recent call last)",
      "Cell \u001b[1;32mIn[104], line 19\u001b[0m\n\u001b[0;32m     16\u001b[0m \u001b[38;5;28mprint\u001b[39m(\u001b[38;5;124m'\u001b[39m\u001b[38;5;124mname:\u001b[39m\u001b[38;5;124m'\u001b[39m,s1\u001b[38;5;241m.\u001b[39mname)\n\u001b[0;32m     18\u001b[0m s1\u001b[38;5;241m.\u001b[39mshow_details()\n\u001b[1;32m---> 19\u001b[0m s1\u001b[38;5;241m.\u001b[39m__address()\n",
      "\u001b[1;31mAttributeError\u001b[0m: 'Student' object has no attribute '__address'"
     ]
    }
   ],
   "source": [
    "'''3. Private:\n",
    "Members declared as private can only be accessed within the class in which they are defined. They cannot be accessed directly from outside the class or even from subclasses.\n",
    "Denoted by: A double underscore (__) before the variable or method name.'''\n",
    "\n",
    "class Student:\n",
    "    def __init__(self,name,address):\n",
    "        self.name=name\n",
    "        self.__address=address # Private attribute\n",
    "\n",
    "\n",
    "    def show_details(self):  # Accessible inside the class\n",
    "        print(f\"name={self.name},address={self.__address}\") # Can access protected attribute in subclass\n",
    "\n",
    "s1=Student('Rahul','flat no:23 ABC appartment xyz road PQR city')\n",
    "print('name:',s1.name)\n",
    "\n",
    "s1.show_details()\n",
    "s1.__address() # Raises an Attribute Error because it's private\n"
   ]
  },
  {
   "cell_type": "code",
   "execution_count": 110,
   "id": "d67ec8aa-168b-4f62-ae4b-865cf3ff676f",
   "metadata": {},
   "outputs": [
    {
     "name": "stdout",
     "output_type": "stream",
     "text": [
      "Animal speaks.\n",
      "Dog is barking.\n"
     ]
    }
   ],
   "source": [
    "# 6. Describe the five types of inheritance in Python. Provide a simple example of multiple inheritance.\n",
    "\n",
    "'''In Python, there are five main types of inheritance, which describe how a class can inherit properties (attributes and methods) \n",
    "from one or more parent classes. Each type helps structure class hierarchies differently depending on the relationship between the classes.\n",
    "\n",
    "1. Single Inheritance:\n",
    "Involves a single child class inheriting from one parent class.\n",
    "The child class can use or override the properties and methods of the parent class.'''    \n",
    "\n",
    "class Animal:\n",
    "    def speak(self):\n",
    "        print('Animal speaks.')\n",
    "\n",
    "class Dog(Animal):\n",
    "    def bark(self):\n",
    "        print('Dog is barking.')\n",
    "\n",
    "animal=Dog()\n",
    "animal.speak()\n",
    "animal.bark()\n",
    "\n"
   ]
  },
  {
   "cell_type": "code",
   "execution_count": 113,
   "id": "b89fa9d9-d2b1-4e96-8869-34e71984e89f",
   "metadata": {},
   "outputs": [
    {
     "name": "stdout",
     "output_type": "stream",
     "text": [
      "Animal sounds.\n",
      "Mammal walks\n",
      "Dog is barking.\n"
     ]
    }
   ],
   "source": [
    "'''2. Multiple Inheritance:\n",
    "A child class inherits from more than one parent class.\n",
    "This allows the child class to inherit attributes and methods from multiple base classes.'''\n",
    "\n",
    "class Animal:\n",
    "    def speak(self):\n",
    "        print('Animal sounds.')\n",
    "\n",
    "class Mammal(Animal):\n",
    "    def walk(self):\n",
    "        print('Mammal walks')\n",
    "\n",
    "class Dog(Mammal):\n",
    "    def bark(self):\n",
    "        print('Dog is barking.')\n",
    "\n",
    "animal=Dog()\n",
    "animal.speak()\n",
    "animal.walk()\n",
    "animal.bark()"
   ]
  },
  {
   "cell_type": "code",
   "execution_count": 125,
   "id": "4529cb89-0960-47d1-bf0f-fe01d1cfece2",
   "metadata": {},
   "outputs": [
    {
     "name": "stdout",
     "output_type": "stream",
     "text": [
      "Engine has started\n",
      "wheels start rolling\n",
      "car started\n"
     ]
    }
   ],
   "source": [
    "'''3. Multilevel Inheritance:\n",
    "A chain of inheritance where a class inherits from a parent class, and another class inherits from that child class.\n",
    "A grandparent-parent-child hierarchy is created.'''\n",
    "\n",
    "class Engine:\n",
    "    def start (self):\n",
    "        print('Engine has started')\n",
    "\n",
    "class Wheels:\n",
    "    def roll(self):\n",
    "        print('wheels start rolling')\n",
    "\n",
    "class Car(Engine,Wheels):\n",
    "    def drive(self):\n",
    "        print('car started')\n",
    "             \n",
    "car=Car()\n",
    "car.start()\n",
    "car.roll()\n",
    "car.drive()"
   ]
  },
  {
   "cell_type": "code",
   "execution_count": 118,
   "id": "face7ae1-b137-43a9-ac06-5aa2a90ccfe3",
   "metadata": {},
   "outputs": [
    {
     "name": "stdout",
     "output_type": "stream",
     "text": [
      "Animal sounds.\n",
      "Dog is barking.\n",
      "Animal sounds.\n",
      "Cat meows.\n"
     ]
    }
   ],
   "source": [
    "'''4. Hierarchical Inheritance:\n",
    "Multiple child classes inherit from the same parent class.\n",
    "Each child class can have its own methods and properties, but they share the attributes and methods of the common parent class.'''\n",
    "\n",
    "class Animal:\n",
    "    def speak(self):\n",
    "        print('Animal sounds.')\n",
    "\n",
    "class Dog(Animal):\n",
    "    def bark(self):\n",
    "        print('Dog is barking.')\n",
    "\n",
    "class Cat(Animal):\n",
    "    def meow(self):\n",
    "        print('Cat meows.')\n",
    "dog=Dog()\n",
    "cat=Cat()\n",
    "dog.speak()\n",
    "dog.bark()\n",
    "cat.speak()\n",
    "cat.meow()"
   ]
  },
  {
   "cell_type": "code",
   "execution_count": 130,
   "id": "c3376a65-af08-4468-a18e-d947d8b8de23",
   "metadata": {},
   "outputs": [
    {
     "name": "stdout",
     "output_type": "stream",
     "text": [
      "mammal walks.\n",
      "Bird is flying.\n",
      "Bat hangs upside down.\n"
     ]
    }
   ],
   "source": [
    "'''5. Hybrid Inheritance:\n",
    "A combination of two or more types of inheritance. This can involve using multiple inheritance and other types in one design.\n",
    "It’s used to create more complex class hierarchies.'''\n",
    "\n",
    "class Animal:\n",
    "    def speak(self):\n",
    "        print('Animal sounds.')\n",
    "\n",
    "class Mammal:\n",
    "    def walk(self):\n",
    "        print('mammal walks.')\n",
    "class Bird(Animal):\n",
    "    def fly(self):\n",
    "        print('Bird is flying.')\n",
    "\n",
    "class Bat(Mammal ,Bird):\n",
    "    def hang(self):\n",
    "        print('Bat hangs upside down.')\n",
    "\n",
    "\n",
    "bat=Bat()\n",
    "bat.walk()\n",
    "bat.fly()\n",
    "bat.hang()"
   ]
  },
  {
   "cell_type": "code",
   "execution_count": 143,
   "id": "039cf98d-e6f5-46ea-bd6a-614246d17bf0",
   "metadata": {},
   "outputs": [
    {
     "name": "stdout",
     "output_type": "stream",
     "text": [
      "Return z\n",
      "[<class '__main__.A'>, <class '__main__.Z'>, <class '__main__.Y'>, <class '__main__.X'>, <class 'object'>]\n",
      "(<class '__main__.A'>, <class '__main__.Z'>, <class '__main__.Y'>, <class '__main__.X'>, <class 'object'>)\n"
     ]
    }
   ],
   "source": [
    "#7. What is the Method Resolution Order (MRO) in Python? How can you retrieve it programmatically?\n",
    "\n",
    "'''Method Resolution Order (MRO) in Python\n",
    "The Method Resolution Order (MRO) is the order in which Python looks for a method or attribute in a hierarchy of classes. \n",
    "This is particularly important in cases of multiple inheritance, where a class can inherit methods and attributes \n",
    "from more than one parent class.\n",
    "\n",
    "MRO helps Python figure out the order in which to look for the method.\n",
    "It creates a pathway or chain to search for the method, going from class to class until it finds the method you're trying to call.'''\n",
    "\n",
    "class X: #Class X: Base class with a call_me() method.\n",
    "    def call_me(self):\n",
    "        print ('Return x')\n",
    "\n",
    "class Y(X): #Class Y: Inherits from X and overrides call_me().\n",
    "    def call_me(self):\n",
    "        print ('Return y')\n",
    "\n",
    "class Z(X): #Class Z: Also inherits from X and overrides call_me().\n",
    "    def call_me(self):\n",
    "        print ('Return z')\n",
    "\n",
    "class A(Z,Y): #Class A: Inherits from both Y and Z (multiple inheritance), but does not define call_me() itself\n",
    "    pass\n",
    "\n",
    "a=A() # Create an instance of class A\n",
    "'''When you call a.call_me(), Python will follow the MRO to determine which class call_me() method to use. \n",
    "Since both Y and Z define call_me(), MRO will help decide which version is used first.'''\n",
    "a.call_me()\n",
    "\n",
    "print (A.mro()) # Retrieve the MRO using mro() method\n",
    "print (A.__mro__) # Retrieve the MRO using __mro__ attribute\n",
    "\n",
    "\n",
    "'''A.mro() and A.__mro__ show the order in which Python searches for methods:\n",
    "First: Python checks A.\n",
    "Second: Python checks Y (because Y is listed before Z in the inheritance of A).\n",
    "Third: If Y doesn’t have the method, Python would check Z.\n",
    "Fourth: It would then check X if neither Y nor Z had the method.\n",
    "Finally: It would check the built-in object class, which is the parent of all classes in Python.\n",
    "In this case, since Y defines the call_me() method, Method in Y is printed.'''"
   ]
  },
  {
   "cell_type": "code",
   "execution_count": 144,
   "id": "5565238e-106e-49f5-97e3-d8d5ce9735a8",
   "metadata": {},
   "outputs": [
    {
     "name": "stdout",
     "output_type": "stream",
     "text": [
      "Circle area: 78.53981633974483\n",
      "Rectangle area: 24\n"
     ]
    }
   ],
   "source": [
    "# 8. Create an abstract base class `Shape` with an abstract method `area()`. Then create two subclasses `Circle` and `Rectangle` that implement the `area()` method.\n",
    "\n",
    "from abc import ABC, abstractmethod\n",
    "import math\n",
    "\"\"\"The abstract class Shape defines the abstract method area() but does not provide any implementation. \n",
    "This forces subclasses to implement this method\"\"\"\n",
    "# Abstract Base Class\n",
    "class Shape(ABC):\n",
    "    \n",
    "    # Abstract method that must be implemented in any subclass\n",
    "    @abstractmethod\n",
    "    def area(self):\n",
    "        pass\n",
    "#Subclasses: The Circle and Rectangle classes will inherit from Shape and implement the area() method with their specific formulas.\n",
    "# Circle subclass implementing the area() method\n",
    "class Circle(Shape):\n",
    "    \n",
    "    def __init__(self, radius):\n",
    "        self.radius = radius\n",
    "    \n",
    "    # Implementing the abstract method area()\n",
    "    def area(self):\n",
    "        return math.pi * self.radius ** 2\n",
    "\n",
    "# Rectangle subclass implementing the area() method\n",
    "class Rectangle(Shape):\n",
    "    \n",
    "    def __init__(self, width, height):\n",
    "        self.width = width\n",
    "        self.height = height\n",
    "    \n",
    "    # Implementing the abstract method area()\n",
    "    def area(self):\n",
    "        return self.width * self.height\n",
    "\n",
    "# Creating instances of Circle and Rectangle\n",
    "circle = Circle(5)  # Circle with radius 5\n",
    "rectangle = Rectangle(4, 6)  # Rectangle with width 4 and height 6\n",
    "\n",
    "# Calling the area() method for both shapes\n",
    "print(f\"Circle area: {circle.area()}\")        \n",
    "print(f\"Rectangle area: {rectangle.area()}\") \n"
   ]
  },
  {
   "cell_type": "code",
   "execution_count": 155,
   "id": "dceac594-9041-4ec5-b2d3-de78fd6da4b9",
   "metadata": {},
   "outputs": [
    {
     "name": "stdout",
     "output_type": "stream",
     "text": [
      "The area is 50.24\n",
      "The area is 24\n"
     ]
    }
   ],
   "source": [
    " #9. Demonstrate polymorphism by creating a function that can work with different shape objects to calculate and print their areas.\n",
    "'''The base class Shape is defined but doesn't enforce or require an area() method. \n",
    "It’s simply a placeholder to show that all shapes derive from a common base.\n",
    "This base class could be empty or include common functionality if needed.'''\n",
    "\n",
    "'''Polymorphism:\n",
    "\n",
    "The function print_area() takes a shape object as an argument.\n",
    "It doesn't need to know the specific type of the shape; it just calls the area() method.\n",
    "As long as the object passed to print_area() has an area() method (like Circle, Rectangle, or Triangle), \n",
    "the function works. This is polymorphism, where objects of different types can be treated uniformly through a common interface.'''\n",
    "# Base class for Shape\n",
    "class Shape:\n",
    "     # Base class can have methods or be empty\n",
    "    pass \n",
    "\n",
    "# Circle class inheriting from Shape\n",
    "class Circle(Shape):\n",
    "    def __init__(self,radius):\n",
    "        self.radius=radius\n",
    "    def area (self): # Method to calculate the area of a circle\n",
    "        return 3.14*self.radius**2\n",
    "\n",
    "class Rectangle(Shape):# Rectangle class inheriting from Shape\n",
    "    def __init__(self,length,breath):\n",
    "        self.length=length\n",
    "        self.breath=breath\n",
    "    def area(self): # Method to calculate the area of a rectangle\n",
    "        return  self.length * self.breath\n",
    "\n",
    "def print_area(Shape):\n",
    "    print(f'The area is {Shape.area()}')\n",
    "\n",
    "\n",
    "C=Circle(4)\n",
    "R=Rectangle(4,6)\n",
    "\n",
    "print_area(C) #print_area(circle) calls the area() method of Circle.\n",
    "print_area(R) #print_area(rectangle) calls the area() method of Rectangle.\n",
    "    "
   ]
  },
  {
   "cell_type": "code",
   "execution_count": 174,
   "id": "b7ead59e-ef55-4659-891b-2d34a65b9c0e",
   "metadata": {},
   "outputs": [
    {
     "name": "stdout",
     "output_type": "stream",
     "text": [
      "Deposited amount:5000,Updated balance=15000\n",
      "deposit amount-15000\n",
      "Withdrawal amount:1000,Updated balance=14000\n",
      "withdrew amount- 14000\n",
      "your current balance is:14000\n",
      "check_balance- 14000\n"
     ]
    }
   ],
   "source": [
    " # 10. Implement encapsulation in a `BankAccount` class with private attributes for `balance` and \n",
    "# `account_number`. Include methods for deposit, withdrawal, and balance inquiry.\n",
    "\n",
    "class Bank_Account:\n",
    "    def __init__(self, account_number,balance=0):\n",
    "        # Private attributes (encapsulated)\n",
    "        self.__account_number=account_number\n",
    "        self.__balance=balance\n",
    "        \n",
    "# Method to deposit money\n",
    "    def deposit(self,amount):\n",
    "        if amount>0:\n",
    "            self.__balance+=amount\n",
    "            print(f'Deposited amount:{amount},Updated balance={self.__balance}')\n",
    "            return self.__balance # Return the updated balance\n",
    "        else:\n",
    "            print('Amount should be positive')\n",
    "            return None\n",
    "  # Method to withdraw mone   \n",
    "    def Withdrawal(self,amount):\n",
    "        if 0<amount<=self.__balance:\n",
    "            self.__balance-=amount\n",
    "            print(f'Withdrawal amount:{amount},Updated balance={self.__balance}')\n",
    "            return self.__balance  # Return the updated balance\n",
    "        else:\n",
    "            print('Insufficent balance ')\n",
    "            return None\n",
    "\n",
    "            \n",
    "\n",
    "    def check_balance(self):\n",
    "        print(f\"your current balance is:{self.__balance}\")\n",
    "        return self.__balance\n",
    "    \n",
    "    def get_acc_number(self):\n",
    "        return self.__account_number\n",
    "            \n",
    "        \n",
    "Ram=Bank_Account('ABC123456',10000)\n",
    "print(f'deposit amount-{Ram.deposit(5000)}')\n",
    "print('withdrew amount-',Ram.Withdrawal(1000))\n",
    "print('check_balance-',Ram.check_balance())"
   ]
  },
  {
   "cell_type": "code",
   "execution_count": 185,
   "id": "acf2f406-c3a0-4384-b587-5ccfe8d73ce0",
   "metadata": {},
   "outputs": [
    {
     "name": "stdout",
     "output_type": "stream",
     "text": [
      "book1= Title-Python Basics,Pages=300.\n",
      "book2= Title-Advanced Python,Pages=400.\n",
      "Combine pages of=Python BasicsandAdvanced Python is 700\n"
     ]
    }
   ],
   "source": [
    "#11. Write a class that overrides the `__str__` and `__add__` magic methods. What will these methods allow you to do?\n",
    "\n",
    "'''In Python, magic methods (also known as dunder methods) are special methods that allow us to define \n",
    "the behavior of objects when used with built-in operations like printing, adding, or comparing. Two commonly used magic methods are:\n",
    "\n",
    "__str__(): Controls the string representation of an object when print() or str() is called.\n",
    "__add__(): Controls how objects are added together using the + operator.\n",
    "By overriding these methods, you can define custom behavior for how instances of your \n",
    "class interact with the print() function and the + operator.\n",
    "\n",
    "Overriding __str__ and __add__ '''\n",
    "\n",
    "class Book:\n",
    "    def __init__(self,title,pages):\n",
    "        self.title=title\n",
    "        self.pages=pages\n",
    "\n",
    "    \n",
    "    def __str__(self):\n",
    "        return f\"Title-{self.title},Pages={self.pages}.\"\n",
    "\n",
    "    def __add__(self,other):\n",
    "        total_pages=self.pages+other.pages\n",
    "        return f'Combine pages of={self.title}and{other.title} is {total_pages}'\n",
    "\n",
    "# Creating two book objects\n",
    "book1 = Book(\"Python Basics\", 300)\n",
    "book2 = Book(\"Advanced Python\", 400)\n",
    "print(\"book1=\",book1)\n",
    "print(\"book2=\",book2)\n",
    "print(book1 + book2)"
   ]
  },
  {
   "cell_type": "code",
   "execution_count": 204,
   "id": "74dca141-8d90-4575-a18f-a59884fa5c30",
   "metadata": {},
   "outputs": [
    {
     "name": "stdout",
     "output_type": "stream",
     "text": [
      "function is running\n",
      "Execution time function: 2.010175\n"
     ]
    }
   ],
   "source": [
    "#12. Create a decorator that measures and prints the execution time of a function.\n",
    "\n",
    "import time\n",
    "\n",
    "def Execution(func):\n",
    "    def Wrapper(*arwgs,**kwargs):\n",
    "        start_time=time.time()\n",
    "        result=func(*arwgs,**kwargs)\n",
    "        end_time=time.time()\n",
    "        execution_time=end_time - start_time\n",
    "        print(f\"Execution time {func.__name__}: {execution_time:.6f}\")\n",
    "        return result\n",
    "    return Wrapper\n",
    "\n",
    "@Execution\n",
    "def function():\n",
    "    print('function is running')\n",
    "    time.sleep(2)\n",
    "\n",
    "function()\n",
    "    "
   ]
  },
  {
   "cell_type": "code",
   "execution_count": 211,
   "id": "30eb1afd-65bb-4b6a-8ef7-ca122f9d7c50",
   "metadata": {},
   "outputs": [
    {
     "name": "stdout",
     "output_type": "stream",
     "text": [
      "Method in B\n",
      "[<class '__main__.D'>, <class '__main__.B'>, <class '__main__.C'>, <class '__main__.A'>, <class 'object'>]\n"
     ]
    }
   ],
   "source": [
    "#13. Explain the concept of the Diamond Problem in multiple inheritance. How does Python resolve it?\n",
    "\n",
    "'''Diamond Problem in Multiple Inheritance (Simplified Explanation):\n",
    "The Diamond Problem occurs in programming languages that allow multiple inheritance—when a class can inherit \n",
    "from more than one parent class. The problem gets its name from the diamond-shaped inheritance structure formed \n",
    "when one class inherits from two parents, and both of those parent classes inherit from a single grandparent class.\n",
    "\n",
    "Class A: The top-level class (grandparent).\n",
    "Classes B and C: Both inherit from A (parents).\n",
    "Class D: Inherits from both B and C (child).\n",
    "Now, if A has a method (let's say method()), and both B and C inherit this method,\n",
    "the question arises: when D calls method(), which version of the method should be executed? \n",
    "The one from B, or the one from C? This is the Diamond Problem—which path to take through the diamond.'''\n",
    "\n",
    "\n",
    "class A:\n",
    "    def show(self):\n",
    "        print(\"Method in A\")\n",
    "\n",
    "class B(A):\n",
    "    def show(self):\n",
    "        print(\"Method in B\")\n",
    "\n",
    "class C(A):\n",
    "    def show(self):\n",
    "        print(\"Method in C\")\n",
    "\n",
    "class D(B, C):\n",
    "    pass\n",
    "\n",
    "d = D()\n",
    "d.show()  # Which method gets called?\n",
    "print(D.mro())\n",
    "\n",
    "'''How Python Solves the Diamond Problem:\n",
    "Python uses the Method Resolution Order (MRO) to solve this issue. The MRO is the order in which Python \n",
    "searches for a method in a class hierarchy when there is multiple inheritance. \n",
    "Python's MRO follows a C3 Linearization algorithm, which creates a consistent, predictable order for method lookups.\n",
    "\n",
    "Python looks for the method first in class D.\n",
    "If it doesn't find it there, it looks in B first (because B was listed before C in D(B, C)).\n",
    "If the method is still not found, it looks in C.\n",
    "Finally, it checks class A.\n",
    "This order ensures that each class is searched only once and avoids ambiguity. Here's how Python resolves the method lookup in our example:\n",
    "\n",
    "Python checks if D has its own show() method (it doesn't).\n",
    "Then it checks B (which has the show() method), and it calls that version.\n",
    "Even though C also has a show() method, Python doesn’t check it because the method is already found in B.\n",
    "'''\n"
   ]
  },
  {
   "cell_type": "code",
   "execution_count": 212,
   "id": "f0702737-3803-4378-996d-1a72abc77794",
   "metadata": {},
   "outputs": [
    {
     "name": "stdout",
     "output_type": "stream",
     "text": [
      "Number of instances created: 3\n"
     ]
    }
   ],
   "source": [
    "# 14. Write a class method that keeps track of the number of instances created from a class.\n",
    "\n",
    "class MyClass:\n",
    "    # Class variable to store the count of instances\n",
    "    instance_count = 0\n",
    "\n",
    "    def __init__(self):\n",
    "        # Increment the count every time a new instance is created\n",
    "        MyClass.instance_count += 1\n",
    "\n",
    "    @classmethod\n",
    "    def get_instance_count(cls):\n",
    "        # Class method to return the current count of instances\n",
    "        return cls.instance_count\n",
    "\n",
    "# Creating instances of the class\n",
    "obj1 = MyClass()\n",
    "obj2 = MyClass()\n",
    "obj3 = MyClass()\n",
    "\n",
    "# Calling the class method to get the number of instances created\n",
    "print(\"Number of instances created:\", MyClass.get_instance_count())\n"
   ]
  },
  {
   "cell_type": "code",
   "execution_count": 213,
   "id": "7b969f6a-fb9f-43e8-aecf-a48fd7cb1b1f",
   "metadata": {},
   "outputs": [
    {
     "name": "stdout",
     "output_type": "stream",
     "text": [
      "True\n",
      "False\n",
      "False\n",
      "True\n"
     ]
    }
   ],
   "source": [
    "# 15. Implement a static method in a class that checks if a given year is a leap year\n",
    "\n",
    "class Year:\n",
    "    @staticmethod\n",
    "    def is_leap_year(year):\n",
    "        # A year is a leap year if:\n",
    "        # - It is divisible by 4\n",
    "        # - If divisible by 100, it must also be divisible by 400\n",
    "        if (year % 4 == 0) and (year % 100 != 0 or year % 400 == 0):\n",
    "            return True\n",
    "        return False\n",
    "\n",
    "# Example usage:\n",
    "print(Year.is_leap_year(2020))  # Output: True (2020 is a leap year)\n",
    "print(Year.is_leap_year(2021))  # Output: False (2021 is not a leap year)\n",
    "print(Year.is_leap_year(1900))  # Output: False (1900 is not a leap year)\n",
    "print(Year.is_leap_year(2000))  # Output: True (2000 is a leap year)\n"
   ]
  },
  {
   "cell_type": "code",
   "execution_count": null,
   "id": "954f61fc-0fba-401c-9318-04f0506f2d3f",
   "metadata": {},
   "outputs": [],
   "source": []
  }
 ],
 "metadata": {
  "kernelspec": {
   "display_name": "Python 3 (ipykernel)",
   "language": "python",
   "name": "python3"
  },
  "language_info": {
   "codemirror_mode": {
    "name": "ipython",
    "version": 3
   },
   "file_extension": ".py",
   "mimetype": "text/x-python",
   "name": "python",
   "nbconvert_exporter": "python",
   "pygments_lexer": "ipython3",
   "version": "3.12.4"
  }
 },
 "nbformat": 4,
 "nbformat_minor": 5
}
